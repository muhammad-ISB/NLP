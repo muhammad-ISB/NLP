{
  "nbformat": 4,
  "nbformat_minor": 0,
  "metadata": {
    "colab": {
      "provenance": []
    },
    "kernelspec": {
      "name": "python3",
      "display_name": "Python 3"
    },
    "language_info": {
      "name": "python"
    }
  },
  "cells": [
    {
      "cell_type": "code",
      "execution_count": 3,
      "metadata": {
        "id": "E4JotBWg-fz2"
      },
      "outputs": [],
      "source": [
        "# Rule-based chatbot example using Python and NLTK\n",
        "import nltk\n",
        "from nltk.chat.util import Chat, reflections"
      ]
    },
    {
      "cell_type": "code",
      "source": [
        "# Define chatbot responses using patterns and corresponding responses\n",
        "responses = [\n",
        "    (r'hi|hello|hey', ['Hello!', 'Hi there!', 'Hey!']),\n",
        "    (r'how are you?', ['I am doing well, thank you!', 'I\\'m good, how about you?']),\n",
        "    (r'(.*) your name?', ['I am a chatbot.', 'You can call me ChatBot.']),\n",
        "    (r'Bye|Goodbye', ['Goodbye!', 'See you later!']),\n",
        "    (r'Thank you|thanks', ['You are welcome!', 'No problem!']),\n",
        "]"
      ],
      "metadata": {
        "id": "g1aU_2RaNxbu"
      },
      "execution_count": 4,
      "outputs": []
    },
    {
      "cell_type": "code",
      "source": [
        "# Create a chatbot with predefined responses\n",
        "chatbot = Chat(responses, reflections)"
      ],
      "metadata": {
        "id": "0zWELDshN5Cj"
      },
      "execution_count": 5,
      "outputs": []
    },
    {
      "cell_type": "code",
      "source": [
        "# Start the chatbot interaction\n",
        "\n",
        "print('ChatBot: Hi! I am a chatbot. How can I assist you today?')\n",
        "while True:\n",
        "    user_input = input('User: ')\n",
        "    if user_input.lower() == 'bye' or user_input.lower() == 'goodbye' or user_input.lower == 'thank you':\n",
        "        break\n",
        "    response = chatbot.respond(user_input)\n",
        "    print('ChatBot:', response)"
      ],
      "metadata": {
        "colab": {
          "base_uri": "https://localhost:8080/"
        },
        "id": "nxZVKVedOeEN",
        "outputId": "27190079-e59a-42b4-b4dd-f03f44f305f0"
      },
      "execution_count": 7,
      "outputs": [
        {
          "name": "stdout",
          "output_type": "stream",
          "text": [
            "ChatBot: Hi! I am a chatbot. How can I assist you today?\n",
            "User: hello\n",
            "ChatBot: Hello!\n",
            "User: how are you?\n",
            "ChatBot: I'm good, how about you?\n",
            "User: good\n",
            "ChatBot: None\n",
            "User: what is your name?\n",
            "ChatBot: I am a chatbot.\n",
            "User: bye\n"
          ]
        }
      ]
    },
    {
      "cell_type": "code",
      "source": [
        "####################"
      ],
      "metadata": {
        "id": "JU8bCEuNOmAa"
      },
      "execution_count": 8,
      "outputs": []
    },
    {
      "cell_type": "code",
      "source": [
        "# Implementing a simple chatbot using TensorFlow and LSTM\n",
        "\n",
        "# Import TensorFlow and other necessary libraries\n",
        "import tensorflow as tf\n",
        "from tensorflow.keras.layers import Input, LSTM, Dense\n",
        "from tensorflow.keras.models import Model"
      ],
      "metadata": {
        "id": "et0kPjPQRP69"
      },
      "execution_count": 12,
      "outputs": []
    },
    {
      "cell_type": "code",
      "source": [
        "# Define input sequence length and vocabulary size\n",
        "max_seq_length = 20\n",
        "vocab_size = 10000"
      ],
      "metadata": {
        "id": "CtWi94xzRP9o"
      },
      "execution_count": 13,
      "outputs": []
    },
    {
      "cell_type": "code",
      "source": [
        "# Define encoder input layer\n",
        "encoder_inputs = Input(shape=(max_seq_length,))\n",
        "encoder_lstm = LSTM(256, return_state=True)\n",
        "encoder_outputs, state_h, state_c = encoder_lstm(encoder_inputs)\n",
        "encoder_states = [state_h, state_c]"
      ],
      "metadata": {
        "id": "9HcQaqNjRQA9"
      },
      "execution_count": 16,
      "outputs": []
    },
    {
      "cell_type": "code",
      "source": [
        "# Define decoder input layer\n",
        "decoder_inputs = Input(shape=(max_seq_length,))\n",
        "decoder_lstm = LSTM(256, return_sequences=True, return_state=True)\n",
        "decoder_outputs, _, _ = decoder_lstm(decoder_inputs, initial_state=encoder_states)\n",
        "decoder_dense = Dense(vocab_size, activation='softmax')\n",
        "decoder_outputs = decoder_dense(decoder_outputs)"
      ],
      "metadata": {
        "id": "oPIw6q81RQEX"
      },
      "execution_count": 16,
      "outputs": []
    },
    {
      "cell_type": "code",
      "source": [
        "# Define and compile the model\n",
        "model = Model([encoder_inputs, decoder_inputs], decoder_outputs)\n",
        "model.compile(optimizer='adam', loss='categorical_crossentropy', metrics=['accuracy'])"
      ],
      "metadata": {
        "id": "vzfqRe3URQHJ"
      },
      "execution_count": 16,
      "outputs": []
    },
    {
      "cell_type": "code",
      "source": [
        "# Train the model with input-output pairs\n",
        "model.fit([encoder_input_data, decoder_input_data], decoder_target_data, epochs=50, batch_size=64)"
      ],
      "metadata": {
        "id": "cnRdOiRvRQJ8"
      },
      "execution_count": 16,
      "outputs": []
    },
    {
      "cell_type": "code",
      "source": [
        "####################"
      ],
      "metadata": {
        "id": "AFpVnI2ZRQNF"
      },
      "execution_count": 16,
      "outputs": []
    },
    {
      "cell_type": "code",
      "source": [
        "# Intent Classification with Machine Learning"
      ],
      "metadata": {
        "id": "hj5UKUG6R0vO"
      },
      "execution_count": 22,
      "outputs": []
    },
    {
      "cell_type": "code",
      "source": [
        "# Import necessary libraries\n",
        "from sklearn.svm import SVC\n",
        "from sklearn.feature_extraction.text import TfidfVectorizer\n",
        "from sklearn.pipeline import Pipeline"
      ],
      "metadata": {
        "id": "IPvBSw_qR0ye"
      },
      "execution_count": 17,
      "outputs": []
    },
    {
      "cell_type": "code",
      "source": [
        "# Define pipeline for text classification\n",
        "text_clf = Pipeline([\n",
        "    ('tfidf', TfidfVectorizer()),\n",
        "    ('clf', SVC(kernel='linear'))\n",
        "])"
      ],
      "metadata": {
        "id": "CM6z3rWbR01W"
      },
      "execution_count": 18,
      "outputs": []
    },
    {
      "cell_type": "code",
      "source": [
        "# train_texts and train_labels are not defined as i am not having the data"
      ],
      "metadata": {
        "id": "Qy1U-KNDSFia"
      },
      "execution_count": 21,
      "outputs": []
    },
    {
      "cell_type": "code",
      "source": [
        "# Train the intent classification model\n",
        "text_clf.fit(train_texts, train_labels)\n",
        "\n",
        "# Make predictions\n",
        "predicted_labels = text_clf.predict(test_texts)"
      ],
      "metadata": {
        "id": "HmW8JVTeR04u"
      },
      "execution_count": 20,
      "outputs": []
    },
    {
      "cell_type": "code",
      "source": [
        "#######################"
      ],
      "metadata": {
        "id": "3-AFAHHnSA77"
      },
      "execution_count": null,
      "outputs": []
    }
  ]
}